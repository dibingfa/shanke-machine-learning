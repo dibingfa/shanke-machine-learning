import matplotlib.pyplot as plt
import numpy as np

# 生成一些随机数据
x = np.random.rand(50)
y = np.random.rand(50)

# 创建散点图
plt.scatter(x, y)
plt.title('Simple Scatter Plot')
plt.xlabel('x')
plt.ylabel('y')
plt.show()
